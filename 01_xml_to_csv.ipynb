{
 "cells": [
  {
   "cell_type": "code",
   "execution_count": 1,
   "id": "d929caae",
   "metadata": {
    "_cell_guid": "b1076dfc-b9ad-4769-8c92-a6c4dae69d19",
    "_uuid": "8f2839f25d086af736a60e9eeb907d3b93b6e0e5",
    "execution": {
     "iopub.execute_input": "2024-03-31T15:53:36.279759Z",
     "iopub.status.busy": "2024-03-31T15:53:36.279391Z",
     "iopub.status.idle": "2024-03-31T15:53:37.007821Z",
     "shell.execute_reply": "2024-03-31T15:53:37.007048Z"
    },
    "papermill": {
     "duration": 0.736219,
     "end_time": "2024-03-31T15:53:37.010271",
     "exception": false,
     "start_time": "2024-03-31T15:53:36.274052",
     "status": "completed"
    },
    "tags": []
   },
   "outputs": [],
   "source": [
    "import pandas as pd \n",
    "import numpy as np\n",
    "import os \n",
    "import xml.etree.ElementTree as xet\n",
    "from glob import glob"
   ]
  },
  {
   "cell_type": "code",
   "execution_count": 2,
   "id": "8ea7aa87",
   "metadata": {
    "execution": {
     "iopub.execute_input": "2024-03-31T15:53:37.018157Z",
     "iopub.status.busy": "2024-03-31T15:53:37.017720Z",
     "iopub.status.idle": "2024-03-31T15:53:37.127161Z",
     "shell.execute_reply": "2024-03-31T15:53:37.126310Z"
    },
    "papermill": {
     "duration": 0.115873,
     "end_time": "2024-03-31T15:53:37.129558",
     "exception": false,
     "start_time": "2024-03-31T15:53:37.013685",
     "status": "completed"
    },
    "tags": []
   },
   "outputs": [],
   "source": [
    "paths = glob(\"/kaggle/input/car-plates-numbers/Car Plates Numbers/*.xml\")"
   ]
  },
  {
   "cell_type": "code",
   "execution_count": 3,
   "id": "868463a4",
   "metadata": {
    "execution": {
     "iopub.execute_input": "2024-03-31T15:53:37.137542Z",
     "iopub.status.busy": "2024-03-31T15:53:37.137194Z",
     "iopub.status.idle": "2024-03-31T15:53:37.144182Z",
     "shell.execute_reply": "2024-03-31T15:53:37.143339Z"
    },
    "papermill": {
     "duration": 0.013093,
     "end_time": "2024-03-31T15:53:37.146066",
     "exception": false,
     "start_time": "2024-03-31T15:53:37.132973",
     "status": "completed"
    },
    "tags": []
   },
   "outputs": [
    {
     "data": {
      "text/plain": [
       "['/kaggle/input/car-plates-numbers/Car Plates Numbers/egyptnumberplates_359844084_18300081181105703_9021133330498427668_n.xml',\n",
       " '/kaggle/input/car-plates-numbers/Car Plates Numbers/egyptnumberplates_355436754_229575209934543_7445815768564688252_n.xml',\n",
       " '/kaggle/input/car-plates-numbers/Car Plates Numbers/egyptnumberplates_359730883_2546940755455381_6348743079455510123_n.xml',\n",
       " '/kaggle/input/car-plates-numbers/Car Plates Numbers/egyptnumberplates_358043558_3324987431083317_1645899002978616455_n.xml',\n",
       " '/kaggle/input/car-plates-numbers/Car Plates Numbers/egyptnumberplates_432412375_18420393193052846_8666315887090405302_n.xml',\n",
       " '/kaggle/input/car-plates-numbers/Car Plates Numbers/egyptnumberplates_360083103_18300043486105703_6673095057977140272_n.xml',\n",
       " '/kaggle/input/car-plates-numbers/Car Plates Numbers/egyptnumberplates_432462340_18420999403052846_4599918354838957854_n.xml',\n",
       " '/kaggle/input/car-plates-numbers/Car Plates Numbers/egyptnumberplates_361836325_18301035682105703_1985680267071348615_n.xml',\n",
       " '/kaggle/input/car-plates-numbers/Car Plates Numbers/egyptnumberplates_356945916_1390578488181771_9044260462117082803_n.xml',\n",
       " '/kaggle/input/car-plates-numbers/Car Plates Numbers/egyptnumberplates_360193363_18300271792105703_8482141479099000947_n.xml']"
      ]
     },
     "execution_count": 3,
     "metadata": {},
     "output_type": "execute_result"
    }
   ],
   "source": [
    "paths[:10]"
   ]
  },
  {
   "cell_type": "code",
   "execution_count": 4,
   "id": "78c6f046",
   "metadata": {
    "execution": {
     "iopub.execute_input": "2024-03-31T15:53:37.154377Z",
     "iopub.status.busy": "2024-03-31T15:53:37.154063Z",
     "iopub.status.idle": "2024-03-31T15:53:37.163212Z",
     "shell.execute_reply": "2024-03-31T15:53:37.162280Z"
    },
    "papermill": {
     "duration": 0.015656,
     "end_time": "2024-03-31T15:53:37.165132",
     "exception": false,
     "start_time": "2024-03-31T15:53:37.149476",
     "status": "completed"
    },
    "tags": []
   },
   "outputs": [
    {
     "name": "stdout",
     "output_type": "stream",
     "text": [
      "413 577 580 660\n"
     ]
    }
   ],
   "source": [
    "test = paths[0]\n",
    "info = xet.parse(test)\n",
    "root = info.getroot()\n",
    "m_object = root.find('object')\n",
    "bndbox = m_object.find('bndbox')\n",
    "xmin = int(bndbox.find('xmin').text)\n",
    "ymin = int(bndbox.find('ymin').text)\n",
    "xmax = int(bndbox.find('xmax').text)\n",
    "ymax = int(bndbox.find('ymax').text)\n",
    "\n",
    "print(xmin,xmax,ymin,ymax)"
   ]
  },
  {
   "cell_type": "code",
   "execution_count": 5,
   "id": "af36de46",
   "metadata": {
    "execution": {
     "iopub.execute_input": "2024-03-31T15:53:37.173530Z",
     "iopub.status.busy": "2024-03-31T15:53:37.173245Z",
     "iopub.status.idle": "2024-03-31T15:53:37.723073Z",
     "shell.execute_reply": "2024-03-31T15:53:37.721867Z"
    },
    "papermill": {
     "duration": 0.556749,
     "end_time": "2024-03-31T15:53:37.725509",
     "exception": false,
     "start_time": "2024-03-31T15:53:37.168760",
     "status": "completed"
    },
    "tags": []
   },
   "outputs": [],
   "source": [
    "labels_dict = dict(\n",
    "file_path = [],\n",
    " xmin = [],\n",
    "ymin = [],\n",
    "xmax = [],\n",
    "ymax = []\n",
    ")\n",
    "\n",
    "for filename  in paths : \n",
    "    \n",
    "    info = xet.parse(filename)\n",
    "    root = info.getroot()\n",
    "    m_object = root.find('object')\n",
    "    bndbox = m_object.find('bndbox')\n",
    "    xmin = int(bndbox.find('xmin').text)\n",
    "    ymin = int(bndbox.find('ymin').text)\n",
    "    xmax = int(bndbox.find('xmax').text)\n",
    "    ymax = int(bndbox.find('ymax').text)\n",
    "    \n",
    "    labels_dict['file_path'].append(filename)\n",
    "    labels_dict['xmin'].append(xmin)    \n",
    "    labels_dict['ymin'].append(ymin)    \n",
    "    labels_dict['xmax'].append(xmax) \n",
    "    labels_dict['ymax'].append(ymax)        "
   ]
  },
  {
   "cell_type": "code",
   "execution_count": 6,
   "id": "6cad3d07",
   "metadata": {
    "execution": {
     "iopub.execute_input": "2024-03-31T15:53:37.734375Z",
     "iopub.status.busy": "2024-03-31T15:53:37.733607Z",
     "iopub.status.idle": "2024-03-31T15:53:37.740518Z",
     "shell.execute_reply": "2024-03-31T15:53:37.739655Z"
    },
    "papermill": {
     "duration": 0.013189,
     "end_time": "2024-03-31T15:53:37.742412",
     "exception": false,
     "start_time": "2024-03-31T15:53:37.729223",
     "status": "completed"
    },
    "tags": []
   },
   "outputs": [],
   "source": [
    "df = pd.DataFrame(labels_dict)"
   ]
  },
  {
   "cell_type": "code",
   "execution_count": 7,
   "id": "dff31aaf",
   "metadata": {
    "execution": {
     "iopub.execute_input": "2024-03-31T15:53:37.750364Z",
     "iopub.status.busy": "2024-03-31T15:53:37.750078Z",
     "iopub.status.idle": "2024-03-31T15:53:37.763907Z",
     "shell.execute_reply": "2024-03-31T15:53:37.763030Z"
    },
    "papermill": {
     "duration": 0.020049,
     "end_time": "2024-03-31T15:53:37.765891",
     "exception": false,
     "start_time": "2024-03-31T15:53:37.745842",
     "status": "completed"
    },
    "tags": []
   },
   "outputs": [
    {
     "data": {
      "text/html": [
       "<div>\n",
       "<style scoped>\n",
       "    .dataframe tbody tr th:only-of-type {\n",
       "        vertical-align: middle;\n",
       "    }\n",
       "\n",
       "    .dataframe tbody tr th {\n",
       "        vertical-align: top;\n",
       "    }\n",
       "\n",
       "    .dataframe thead th {\n",
       "        text-align: right;\n",
       "    }\n",
       "</style>\n",
       "<table border=\"1\" class=\"dataframe\">\n",
       "  <thead>\n",
       "    <tr style=\"text-align: right;\">\n",
       "      <th></th>\n",
       "      <th>file_path</th>\n",
       "      <th>xmin</th>\n",
       "      <th>ymin</th>\n",
       "      <th>xmax</th>\n",
       "      <th>ymax</th>\n",
       "    </tr>\n",
       "  </thead>\n",
       "  <tbody>\n",
       "    <tr>\n",
       "      <th>0</th>\n",
       "      <td>/kaggle/input/car-plates-numbers/Car Plates Nu...</td>\n",
       "      <td>413</td>\n",
       "      <td>580</td>\n",
       "      <td>577</td>\n",
       "      <td>660</td>\n",
       "    </tr>\n",
       "    <tr>\n",
       "      <th>1</th>\n",
       "      <td>/kaggle/input/car-plates-numbers/Car Plates Nu...</td>\n",
       "      <td>316</td>\n",
       "      <td>744</td>\n",
       "      <td>553</td>\n",
       "      <td>920</td>\n",
       "    </tr>\n",
       "    <tr>\n",
       "      <th>2</th>\n",
       "      <td>/kaggle/input/car-plates-numbers/Car Plates Nu...</td>\n",
       "      <td>414</td>\n",
       "      <td>689</td>\n",
       "      <td>668</td>\n",
       "      <td>827</td>\n",
       "    </tr>\n",
       "    <tr>\n",
       "      <th>3</th>\n",
       "      <td>/kaggle/input/car-plates-numbers/Car Plates Nu...</td>\n",
       "      <td>432</td>\n",
       "      <td>566</td>\n",
       "      <td>615</td>\n",
       "      <td>657</td>\n",
       "    </tr>\n",
       "    <tr>\n",
       "      <th>4</th>\n",
       "      <td>/kaggle/input/car-plates-numbers/Car Plates Nu...</td>\n",
       "      <td>216</td>\n",
       "      <td>513</td>\n",
       "      <td>401</td>\n",
       "      <td>648</td>\n",
       "    </tr>\n",
       "  </tbody>\n",
       "</table>\n",
       "</div>"
      ],
      "text/plain": [
       "                                           file_path  xmin  ymin  xmax  ymax\n",
       "0  /kaggle/input/car-plates-numbers/Car Plates Nu...   413   580   577   660\n",
       "1  /kaggle/input/car-plates-numbers/Car Plates Nu...   316   744   553   920\n",
       "2  /kaggle/input/car-plates-numbers/Car Plates Nu...   414   689   668   827\n",
       "3  /kaggle/input/car-plates-numbers/Car Plates Nu...   432   566   615   657\n",
       "4  /kaggle/input/car-plates-numbers/Car Plates Nu...   216   513   401   648"
      ]
     },
     "execution_count": 7,
     "metadata": {},
     "output_type": "execute_result"
    }
   ],
   "source": [
    "df.head()"
   ]
  },
  {
   "cell_type": "code",
   "execution_count": 8,
   "id": "1212d9ea",
   "metadata": {
    "execution": {
     "iopub.execute_input": "2024-03-31T15:53:37.774384Z",
     "iopub.status.busy": "2024-03-31T15:53:37.774118Z",
     "iopub.status.idle": "2024-03-31T15:53:37.784402Z",
     "shell.execute_reply": "2024-03-31T15:53:37.783550Z"
    },
    "papermill": {
     "duration": 0.016989,
     "end_time": "2024-03-31T15:53:37.786509",
     "exception": false,
     "start_time": "2024-03-31T15:53:37.769520",
     "status": "completed"
    },
    "tags": []
   },
   "outputs": [],
   "source": [
    "df.to_csv('EGYPlate.csv' , index = False)"
   ]
  }
 ],
 "metadata": {
  "kaggle": {
   "accelerator": "gpu",
   "dataSources": [
    {
     "datasetId": 4704008,
     "sourceId": 7990496,
     "sourceType": "datasetVersion"
    }
   ],
   "dockerImageVersionId": 30674,
   "isGpuEnabled": true,
   "isInternetEnabled": true,
   "language": "python",
   "sourceType": "notebook"
  },
  "kernelspec": {
   "display_name": "Python 3",
   "language": "python",
   "name": "python3"
  },
  "language_info": {
   "codemirror_mode": {
    "name": "ipython",
    "version": 3
   },
   "file_extension": ".py",
   "mimetype": "text/x-python",
   "name": "python",
   "nbconvert_exporter": "python",
   "pygments_lexer": "ipython3",
   "version": "3.10.13"
  },
  "papermill": {
   "default_parameters": {},
   "duration": 4.80314,
   "end_time": "2024-03-31T15:53:38.208223",
   "environment_variables": {},
   "exception": null,
   "input_path": "__notebook__.ipynb",
   "output_path": "__notebook__.ipynb",
   "parameters": {},
   "start_time": "2024-03-31T15:53:33.405083",
   "version": "2.5.0"
  }
 },
 "nbformat": 4,
 "nbformat_minor": 5
}
